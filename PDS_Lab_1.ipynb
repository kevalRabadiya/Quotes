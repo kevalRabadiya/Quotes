{
  "cells": [
    {
      "cell_type": "markdown",
      "metadata": {
        "id": "view-in-github",
        "colab_type": "text"
      },
      "source": [
        "<a href=\"https://colab.research.google.com/github/kevalRabadiya/Quotes/blob/main/PDS_Lab_1.ipynb\" target=\"_parent\"><img src=\"https://colab.research.google.com/assets/colab-badge.svg\" alt=\"Open In Colab\"/></a>"
      ]
    },
    {
      "cell_type": "markdown",
      "metadata": {
        "id": "b91Gj5uFOY59"
      },
      "source": [
        "\n",
        "___\n",
        "\n",
        "<a href='https://www.darshan.ac.in/'> <img src='https://gtu.darshan.ac.in/Upload/Logo/DIET_Logo.svg' /></a>\n",
        "___\n",
        "<pre>\n",
        "<center><b>Python for Data Science - 3150713</b></center>\n",
        "<center><b>Lab - 1</b></center>    \n",
        "<pre>"
      ]
    },
    {
      "cell_type": "markdown",
      "metadata": {
        "id": "0A9kZ8XJOY6F"
      },
      "source": [
        "# 01) WAP to add two numbers entered by user"
      ]
    },
    {
      "cell_type": "code",
      "execution_count": 1,
      "metadata": {
        "colab": {
          "base_uri": "https://localhost:8080/"
        },
        "id": "XbhLTiK7OY6G",
        "outputId": "42f4d962-f64b-4ad3-b0f5-5355bda1187f"
      },
      "outputs": [
        {
          "output_type": "stream",
          "name": "stdout",
          "text": [
            "Enter number 1 : 5\n",
            "Enter number 2 : 3\n",
            "Sum = 8\n"
          ]
        }
      ],
      "source": [
        "n1 = int(input(\"Enter number 1 : \"))\n",
        "n2 = int(input(\"Enter number 2 : \"))\n",
        "\n",
        "ans = n1 + n2\n",
        "\n",
        "print(\"Sum =\", ans)"
      ]
    },
    {
      "cell_type": "markdown",
      "metadata": {
        "id": "YtUWW22cOY6H"
      },
      "source": [
        "# 02) WAP to calculate simple interest."
      ]
    },
    {
      "cell_type": "code",
      "execution_count": null,
      "metadata": {
        "id": "Qm46iFeIOY6I"
      },
      "outputs": [],
      "source": [
        "p = int(input(\"Enter principal amount : \"))\n",
        "r = int(input(\"Enter annual rate : \"))\n",
        "n = int(input(\"Enter deration in years : \"))\n",
        "\n",
        "interest = (p * r * n) / 100\n",
        "\n",
        "print(\"Interest =\", interest)"
      ]
    },
    {
      "cell_type": "markdown",
      "metadata": {
        "id": "M6oHNN1yOY6I"
      },
      "source": [
        "# 03) WAP to calculate area of circle."
      ]
    },
    {
      "cell_type": "code",
      "execution_count": null,
      "metadata": {
        "id": "bXwwW-AdOY6J"
      },
      "outputs": [],
      "source": [
        "import math\n",
        "r = int(input(\"Enter radius : \"))\n",
        "area = math.pi * r * r\n",
        "print(area)"
      ]
    },
    {
      "cell_type": "markdown",
      "metadata": {
        "id": "n96WgWEqOY6K"
      },
      "source": [
        "# 04) WAP to print Multiplication table of given number without using loop."
      ]
    },
    {
      "cell_type": "code",
      "execution_count": null,
      "metadata": {
        "id": "v9yn66_jOY6L"
      },
      "outputs": [],
      "source": [
        ""
      ]
    },
    {
      "cell_type": "markdown",
      "metadata": {
        "id": "43S-qbUAOY6L"
      },
      "source": [
        "# 05) WAP to check whether the given number is positive or negative."
      ]
    },
    {
      "cell_type": "code",
      "execution_count": null,
      "metadata": {
        "id": "2MvZ4WJHOY6M"
      },
      "outputs": [],
      "source": [
        "n = int(input(\"Enter number\"))\n",
        "if n > 0:\n",
        "    print(\"positive\")\n",
        "else:\n",
        "    print(\"Negative\")"
      ]
    },
    {
      "cell_type": "markdown",
      "metadata": {
        "id": "MW_D09z3OY6M"
      },
      "source": [
        "# 06) WAP to find out largest number from given three numbers."
      ]
    },
    {
      "cell_type": "code",
      "execution_count": null,
      "metadata": {
        "id": "5K8UCNYEOY6N"
      },
      "outputs": [],
      "source": [
        "a = int(input(\"Enter number 1 : \"))\n",
        "b = int(input(\"Enter number 2 : \"))\n",
        "c = int(input(\"Enter number 3 : \"))\n",
        "\n",
        "if a > b:\n",
        "    if a > c:\n",
        "        print(a, \" is greatest\")\n",
        "    else:\n",
        "        print(c, \" is greatest\")\n",
        "else:\n",
        "    if b > c:\n",
        "        print(b, \" is greatest\")\n",
        "    else:\n",
        "        print(c, \" is greatest\")"
      ]
    },
    {
      "cell_type": "markdown",
      "metadata": {
        "id": "4LuJVggQOY6N"
      },
      "source": [
        "# 07) WAP to implement simple calculator which performs (add,sub,mul,div) of two numbers based on user input."
      ]
    },
    {
      "cell_type": "code",
      "execution_count": null,
      "metadata": {
        "id": "M9rCSiTiOY6O"
      },
      "outputs": [],
      "source": [
        "a = int(input(\"Enter number 1 : \"))\n",
        "b = int(input(\"Enter number 2 : \"))\n",
        "ope = input('Enter operator : ')\n",
        "\n",
        "if ope == '+':\n",
        "    print(a+b)\n",
        "elif ope == '-':\n",
        "    print(a-b)\n",
        "elif ope == '*':\n",
        "    print(a*b)\n",
        "elif ope == '/':\n",
        "    print(a/b)\n",
        "else: \n",
        "    print(\"Invalid operator\")"
      ]
    },
    {
      "cell_type": "markdown",
      "metadata": {
        "id": "mP0pdt22OY6O"
      },
      "source": [
        "# 08) WAP to print 1 to n"
      ]
    },
    {
      "cell_type": "code",
      "execution_count": null,
      "metadata": {
        "id": "PEvRFtsPOY6O"
      },
      "outputs": [],
      "source": [
        "n = int(input(\"Enter number : \"))\n",
        "\n",
        "for i in range(1, n+1):\n",
        "    print(i)"
      ]
    },
    {
      "cell_type": "markdown",
      "metadata": {
        "id": "PjTvhIgvOY6P"
      },
      "source": [
        "# 09) WAP to print odd numbers between 1 to n"
      ]
    },
    {
      "cell_type": "code",
      "execution_count": null,
      "metadata": {
        "id": "BKTeQbitOY6P"
      },
      "outputs": [],
      "source": [
        "n = int(input(\"Enter number : \"))\n",
        "\n",
        "for i in range(1, n+1):\n",
        "    if i % 2 != 0:\n",
        "        print(i)"
      ]
    },
    {
      "cell_type": "markdown",
      "metadata": {
        "id": "x2F8Rm4zOY6P"
      },
      "source": [
        "# 10) WAP to print sum of series 1–2+3–4+5–6+7...n"
      ]
    },
    {
      "cell_type": "code",
      "execution_count": null,
      "metadata": {
        "id": "yc7NCymOOY6Q"
      },
      "outputs": [],
      "source": [
        "n = int(input(\"Enter number : \"))\n",
        "ans = 0;\n",
        "for i in range(1, n+1):\n",
        "    if i % 2 != 0:\n",
        "        ans += i\n",
        "    else: \n",
        "        ans += (i * -1)\n",
        "        \n",
        "print(ans)"
      ]
    },
    {
      "cell_type": "markdown",
      "metadata": {
        "id": "6oOS75zsOY6R"
      },
      "source": [
        "# 11) WAP to print multiplication table of given number."
      ]
    },
    {
      "cell_type": "code",
      "execution_count": null,
      "metadata": {
        "id": "bUMkh3OGOY6R"
      },
      "outputs": [],
      "source": [
        "\n",
        "11) WAP to print multiplication table of given number.\n",
        "n = int(input(\"Enter number : \"))\n",
        "\n",
        "for i in range(1, 11):\n",
        "    print(n , \"*\", i, \" =\", n*i)"
      ]
    },
    {
      "cell_type": "markdown",
      "metadata": {
        "id": "92mPXbXsOY6R"
      },
      "source": [
        "# 12) WAP to find factorial of the given number."
      ]
    },
    {
      "cell_type": "code",
      "execution_count": null,
      "metadata": {
        "id": "Q6PcWLzMOY6S"
      },
      "outputs": [],
      "source": [
        "n = int(input(\"Enter number : \"))\n",
        "ans = 1\n",
        "for i in range(2, n+1):\n",
        "    ans *= i\n",
        "print(ans)"
      ]
    },
    {
      "cell_type": "markdown",
      "metadata": {
        "id": "Sx8AKxi-OY6S"
      },
      "source": [
        "# 13) WAP to find factors of the given number."
      ]
    },
    {
      "cell_type": "code",
      "execution_count": null,
      "metadata": {
        "id": "DttHkmfrOY6S"
      },
      "outputs": [],
      "source": [
        "n = int(input(\"Enter number : \"))\n",
        "\n",
        "for i in range(1, n + 1):\n",
        "    if n % i == 0:\n",
        "        print(i)"
      ]
    },
    {
      "cell_type": "markdown",
      "metadata": {
        "id": "teOxx-fdOY6S"
      },
      "source": [
        "# 14) WAP to find whether the given number is prime or not."
      ]
    },
    {
      "cell_type": "code",
      "execution_count": null,
      "metadata": {
        "id": "I0d02SFvOY6T"
      },
      "outputs": [],
      "source": [
        "import math\n",
        "n = int(input(\"Enter number : \"))\n",
        "if n == 1:\n",
        "    print(\"Not prime\")\n",
        "else:\n",
        "    isPrime = 1\n",
        "    for i in range(2, int(math.sqrt(n)) + 1):\n",
        "        if n % i == 0:\n",
        "            isPrime = 0\n",
        "            break\n",
        "    \n",
        "    if isPrime == 1:\n",
        "        print(\"Prime\")\n",
        "    else: \n",
        "        print(\"Not prime\")"
      ]
    },
    {
      "cell_type": "markdown",
      "metadata": {
        "id": "LK6EhQ5XOY6T"
      },
      "source": [
        "# 15) WAP to print sum of digits of given number."
      ]
    },
    {
      "cell_type": "code",
      "execution_count": null,
      "metadata": {
        "id": "oqKHHKUhOY6T"
      },
      "outputs": [],
      "source": [
        "n = int(input(\"Enter number : \"))\n",
        "sum = 0\n",
        "while(n!=0):\n",
        "    sum += n%10\n",
        "    n //= 10\n",
        "print(sum)"
      ]
    },
    {
      "cell_type": "markdown",
      "metadata": {
        "id": "Zxt6AasFOY6T"
      },
      "source": [
        "# 16) WAP to find out prime numbers between given two numbers."
      ]
    },
    {
      "cell_type": "code",
      "execution_count": null,
      "metadata": {
        "id": "RKyjGErIOY6U"
      },
      "outputs": [],
      "source": [
        "a = int(input(\"Enter number 1 : \"))\n",
        "b = int(input(\"Enter number 2 : \"))\n",
        "\n",
        "for n in range(a, b+1):\n",
        "    isPrime = 1\n",
        "    if n == 1:\n",
        "        isPrime = 0\n",
        "    else:\n",
        "        for i in range(2, int(math.sqrt(n)) + 1):\n",
        "            if n % i == 0:\n",
        "                isPrime = 0\n",
        "                break\n",
        "    if isPrime == 1:\n",
        "        print(n)"
      ]
    },
    {
      "cell_type": "markdown",
      "metadata": {
        "id": "HtQM-FlIOY6U"
      },
      "source": [
        "# 17) WAP to print Fibonacci series up to number given by user."
      ]
    },
    {
      "cell_type": "code",
      "execution_count": null,
      "metadata": {
        "id": "AlC-vlnwOY6U"
      },
      "outputs": [],
      "source": [
        "n = int(input(\"Enter number : \"))\n",
        "\n",
        "if n == 1:\n",
        "    print(0)\n",
        "elif n == 2:\n",
        "    print(0, 1)\n",
        "else: \n",
        "    t1 = 0\n",
        "    t2 = 1\n",
        "    print(t1)\n",
        "    print(t2)\n",
        "    for i in range(0, n-2):\n",
        "        t3 = t1 + t2\n",
        "        print(t3)\n",
        "        t1 = t2"
      ]
    },
    {
      "cell_type": "markdown",
      "metadata": {
        "id": "sDl3ndxnOY6U"
      },
      "source": [
        "# 18) WAP to Find largest prime factor of given number."
      ]
    },
    {
      "cell_type": "code",
      "execution_count": null,
      "metadata": {
        "id": "KjbCAtF9OY6V"
      },
      "outputs": [],
      "source": [
        "n = int(input(\"Enter number : \"))\n",
        "max = 0\n",
        "for i in range(1, n + 1):\n",
        "    if n % i == 0:\n",
        "        if i == 1:\n",
        "            isPrime = 0\n",
        "        else:\n",
        "            isPrime = 1\n",
        "            for j in range(2, int(math.sqrt(i)) + 1):\n",
        "                if i % j == 0:\n",
        "                    isPrime = 0\n",
        "                    break\n",
        "\n",
        "            if isPrime == 1:\n",
        "                if i>max:\n",
        "                    max = i\n",
        "                    \n",
        "print(max)"
      ]
    },
    {
      "cell_type": "markdown",
      "metadata": {
        "id": "78BmVZl5OY6V"
      },
      "source": [
        "# 19) WAP to print sum for cube of first n natural numbers."
      ]
    },
    {
      "cell_type": "code",
      "execution_count": 2,
      "metadata": {
        "colab": {
          "base_uri": "https://localhost:8080/"
        },
        "id": "0FY73g9eOY6W",
        "outputId": "656cb2a6-36ac-4dfc-c2fa-a0e4746a84e6"
      },
      "outputs": [
        {
          "output_type": "stream",
          "name": "stdout",
          "text": [
            "Enter number : 5\n",
            "225\n"
          ]
        }
      ],
      "source": [
        "n = int(input(\"Enter number : \"))\n",
        "\n",
        "sum = 0\n",
        "for i in range(1, n + 1):\n",
        "   sum += (i**2 * i)\n",
        "\n",
        "print(sum)"
      ]
    },
    {
      "cell_type": "markdown",
      "metadata": {
        "id": "ucYn2x0gOY6W"
      },
      "source": [
        "# 20) WAP to converts the given decimal number to its binary equivalent.\n",
        "\n"
      ]
    },
    {
      "cell_type": "code",
      "execution_count": null,
      "metadata": {
        "id": "vqFq4jCuOY6X"
      },
      "outputs": [],
      "source": [
        ""
      ]
    },
    {
      "cell_type": "markdown",
      "metadata": {
        "id": "CaHqjfMNOY6X"
      },
      "source": [
        "# 21) WAP to print following pattern\n",
        "\n",
        "<pre>\n",
        "*\n",
        "* *\n",
        "* * *\n",
        "* * * *\n",
        "</pre>\n"
      ]
    },
    {
      "cell_type": "code",
      "execution_count": 3,
      "metadata": {
        "colab": {
          "base_uri": "https://localhost:8080/"
        },
        "id": "QsBiJAg6OY6X",
        "outputId": "82e039ae-883e-4360-ae10-6afa2999746c"
      },
      "outputs": [
        {
          "output_type": "stream",
          "name": "stdout",
          "text": [
            "* \n",
            "* * \n",
            "* * * \n",
            "* * * * \n"
          ]
        }
      ],
      "source": [
        "for i in range(0, 4):\n",
        "    for j in range(0, i+1):\n",
        "        print('*', end=\" \")\n",
        "    print()"
      ]
    },
    {
      "cell_type": "markdown",
      "metadata": {
        "id": "M4yj1fLtOY6Y"
      },
      "source": [
        "# 22) WAP to print following pattern\n",
        "\n",
        "<pre>$ $ $ $\n",
        "$ $ $\n",
        "$ $\n",
        "$</pre>\n"
      ]
    },
    {
      "cell_type": "code",
      "execution_count": null,
      "metadata": {
        "id": "k3uL_I8lOY6Y"
      },
      "outputs": [],
      "source": [
        "for i in range(0, 4):\n",
        "    for j in range(0, 4-i):\n",
        "        print('$', end=\" \")\n",
        "    print()"
      ]
    },
    {
      "cell_type": "markdown",
      "metadata": {
        "id": "2Q5bqpuNOY6Y"
      },
      "source": [
        "# 23) WAP to print following pattern\n",
        "\n",
        "<pre>\n",
        "# # # # #\n",
        "  # # #\n",
        "    #\n",
        "  # # #\n",
        "# # # # #\n",
        "</pre>\n"
      ]
    },
    {
      "cell_type": "code",
      "execution_count": null,
      "metadata": {
        "id": "DI4rYQflOY6Z"
      },
      "outputs": [],
      "source": [
        "for i in range(0, 5):\n",
        "    for j in range(0, 5):\n",
        "        if j >= i and j<= 4-i:\n",
        "            print('#', end=\" \")\n",
        "    print()"
      ]
    },
    {
      "cell_type": "markdown",
      "metadata": {
        "id": "stP4j7DGOY6Z"
      },
      "source": [
        "# 24) WAP to print following pattern\n",
        "\n",
        "<pre>\n",
        "1\n",
        "2 3\n",
        "4 5 6\n",
        "7 8 9 10\n",
        "</pre>\n"
      ]
    },
    {
      "cell_type": "code",
      "execution_count": null,
      "metadata": {
        "id": "5x7PYGOYOY6Z"
      },
      "outputs": [],
      "source": [
        "k = 1\n",
        "for i in range(0, 4):\n",
        "    for j in range(0, i+1):\n",
        "        print(k, end=\" \")\n",
        "        k += 1\n",
        "    print()"
      ]
    }
  ],
  "metadata": {
    "kernelspec": {
      "display_name": "Python 3 (ipykernel)",
      "language": "python",
      "name": "python3"
    },
    "language_info": {
      "codemirror_mode": {
        "name": "ipython",
        "version": 3
      },
      "file_extension": ".py",
      "mimetype": "text/x-python",
      "name": "python",
      "nbconvert_exporter": "python",
      "pygments_lexer": "ipython3",
      "version": "3.9.7"
    },
    "colab": {
      "name": "PDS - Lab - 1.ipynb",
      "provenance": [],
      "collapsed_sections": [],
      "include_colab_link": true
    }
  },
  "nbformat": 4,
  "nbformat_minor": 0
}